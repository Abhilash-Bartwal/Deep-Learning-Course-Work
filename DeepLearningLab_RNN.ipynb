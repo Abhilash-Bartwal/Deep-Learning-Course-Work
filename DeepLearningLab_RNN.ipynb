{
  "nbformat": 4,
  "nbformat_minor": 0,
  "metadata": {
    "colab": {
      "provenance": [],
      "toc_visible": true,
      "gpuType": "T4"
    },
    "kernelspec": {
      "name": "python3",
      "display_name": "Python 3"
    },
    "language_info": {
      "name": "python"
    },
    "accelerator": "GPU"
  },
  "cells": [
    {
      "cell_type": "code",
      "execution_count": 1,
      "metadata": {
        "id": "WOkAi9VzgRu0"
      },
      "outputs": [],
      "source": [
        "from tensorflow.keras.layers import SimpleRNN, LSTM, GRU, Bidirectional, Dense, Embedding\n",
        "from tensorflow.keras.datasets import imdb\n",
        "from tensorflow.keras.models import Sequential\n",
        "import numpy as np"
      ]
    },
    {
      "cell_type": "markdown",
      "source": [],
      "metadata": {
        "id": "aydQb34kPEjj"
      }
    },
    {
      "cell_type": "code",
      "source": [
        "vocab_size = 5000\n",
        "(x_train, y_train), (x_test, y_test) = imdb.load_data(num_words=vocab_size)"
      ],
      "metadata": {
        "colab": {
          "base_uri": "https://localhost:8080/"
        },
        "id": "PjzsI3F5gjhL",
        "outputId": "e9bcb31b-561f-4c16-e88a-e1331db41403"
      },
      "execution_count": 2,
      "outputs": [
        {
          "output_type": "stream",
          "name": "stdout",
          "text": [
            "Downloading data from https://storage.googleapis.com/tensorflow/tf-keras-datasets/imdb.npz\n",
            "\u001b[1m17464789/17464789\u001b[0m \u001b[32m━━━━━━━━━━━━━━━━━━━━\u001b[0m\u001b[37m\u001b[0m \u001b[1m0s\u001b[0m 0us/step\n"
          ]
        }
      ]
    },
    {
      "cell_type": "code",
      "source": [
        "word_idx = imdb.get_word_index()\n",
        "word_idx = {i: word for word, i in word_idx.items()}"
      ],
      "metadata": {
        "colab": {
          "base_uri": "https://localhost:8080/"
        },
        "id": "F7BU4YjugtYN",
        "outputId": "faa0387e-afe0-4412-eb5e-e6dfb0477295"
      },
      "execution_count": 3,
      "outputs": [
        {
          "output_type": "stream",
          "name": "stdout",
          "text": [
            "Downloading data from https://storage.googleapis.com/tensorflow/tf-keras-datasets/imdb_word_index.json\n",
            "\u001b[1m1641221/1641221\u001b[0m \u001b[32m━━━━━━━━━━━━━━━━━━━━\u001b[0m\u001b[37m\u001b[0m \u001b[1m0s\u001b[0m 0us/step\n"
          ]
        }
      ]
    },
    {
      "cell_type": "code",
      "source": [
        "# Get the minimum and the maximum length of reviews\n",
        "print(\"Max length of a review::\", len(max((x_train+x_test),key=len)))\n",
        "print(\"Min length of a review::\", len(min((x_train+x_test),key=len)))"
      ],
      "metadata": {
        "colab": {
          "base_uri": "https://localhost:8080/"
        },
        "id": "p9xXrjCZg20d",
        "outputId": "b71119f5-2c88-4134-d2c6-442993d22599"
      },
      "execution_count": 4,
      "outputs": [
        {
          "output_type": "stream",
          "name": "stdout",
          "text": [
            "Max length of a review:: 2697\n",
            "Min length of a review:: 70\n"
          ]
        }
      ]
    },
    {
      "cell_type": "code",
      "source": [
        "from tensorflow.keras.preprocessing import sequence\n",
        "max_words = 400\n",
        "x_train = sequence.pad_sequences(x_train,maxlen=max_words)\n",
        "x_test = sequence.pad_sequences(x_test,maxlen=max_words)"
      ],
      "metadata": {
        "id": "uIyVofJBg_CV"
      },
      "execution_count": 5,
      "outputs": []
    },
    {
      "cell_type": "code",
      "source": [
        "x_valid, y_valid = x_train[:64], y_train[:64]\n",
        "x_train_, y_train_ = x_train[64:], y_train[64:]"
      ],
      "metadata": {
        "id": "i1Qeg9zbhGu0"
      },
      "execution_count": 6,
      "outputs": []
    },
    {
      "cell_type": "code",
      "source": [
        "embd_len = 32\n",
        "RNN_model =Sequential(name=\"Simple_RNN\")\n",
        "RNN_model.add(Embedding(vocab_size,embd_len, input_length=max_words))"
      ],
      "metadata": {
        "colab": {
          "base_uri": "https://localhost:8080/"
        },
        "id": "r2FkGT4zhN0J",
        "outputId": "b8ada2c3-f89f-4c0d-baf0-f4839fa4c678"
      },
      "execution_count": 7,
      "outputs": [
        {
          "output_type": "stream",
          "name": "stderr",
          "text": [
            "/usr/local/lib/python3.11/dist-packages/keras/src/layers/core/embedding.py:90: UserWarning: Argument `input_length` is deprecated. Just remove it.\n",
            "  warnings.warn(\n"
          ]
        }
      ]
    },
    {
      "cell_type": "code",
      "source": [
        "RNN_model.add(SimpleRNN(128,activation='tanh', return_sequences=False))\n",
        "RNN_model.add(Dense(1, activation='sigmoid'))"
      ],
      "metadata": {
        "id": "2A_3EHWjhRP_"
      },
      "execution_count": 8,
      "outputs": []
    },
    {
      "cell_type": "code",
      "source": [
        "RNN_model.compile(loss=\"binary_crossentropy\",optimizer='adam',metrics=['accuracy'])"
      ],
      "metadata": {
        "id": "dpT6sCFchWBG"
      },
      "execution_count": 9,
      "outputs": []
    },
    {
      "cell_type": "markdown",
      "source": [],
      "metadata": {
        "id": "ApToTc28hpSW"
      }
    },
    {
      "cell_type": "code",
      "source": [
        "history = RNN_model.fit( x_train_, y_train_,batch_size=64,epochs=5,verbose=1,validation_data=(x_valid, y_valid))"
      ],
      "metadata": {
        "colab": {
          "base_uri": "https://localhost:8080/"
        },
        "id": "iEKuTQQOhy1j",
        "outputId": "736fdfd2-bcc8-4cbc-8b18-06fcc7aad759"
      },
      "execution_count": 10,
      "outputs": [
        {
          "output_type": "stream",
          "name": "stdout",
          "text": [
            "Epoch 1/5\n",
            "\u001b[1m390/390\u001b[0m \u001b[32m━━━━━━━━━━━━━━━━━━━━\u001b[0m\u001b[37m\u001b[0m \u001b[1m16s\u001b[0m 32ms/step - accuracy: 0.5313 - loss: 0.6888 - val_accuracy: 0.5938 - val_loss: 0.6082\n",
            "Epoch 2/5\n",
            "\u001b[1m390/390\u001b[0m \u001b[32m━━━━━━━━━━━━━━━━━━━━\u001b[0m\u001b[37m\u001b[0m \u001b[1m11s\u001b[0m 29ms/step - accuracy: 0.6900 - loss: 0.5760 - val_accuracy: 0.5625 - val_loss: 0.6727\n",
            "Epoch 3/5\n",
            "\u001b[1m390/390\u001b[0m \u001b[32m━━━━━━━━━━━━━━━━━━━━\u001b[0m\u001b[37m\u001b[0m \u001b[1m21s\u001b[0m 29ms/step - accuracy: 0.7170 - loss: 0.5506 - val_accuracy: 0.7812 - val_loss: 0.3881\n",
            "Epoch 4/5\n",
            "\u001b[1m390/390\u001b[0m \u001b[32m━━━━━━━━━━━━━━━━━━━━\u001b[0m\u001b[37m\u001b[0m \u001b[1m20s\u001b[0m 29ms/step - accuracy: 0.7533 - loss: 0.5021 - val_accuracy: 0.7031 - val_loss: 0.5518\n",
            "Epoch 5/5\n",
            "\u001b[1m390/390\u001b[0m \u001b[32m━━━━━━━━━━━━━━━━━━━━\u001b[0m\u001b[37m\u001b[0m \u001b[1m21s\u001b[0m 29ms/step - accuracy: 0.7135 - loss: 0.5474 - val_accuracy: 0.5469 - val_loss: 0.7297\n"
          ]
        }
      ]
    },
    {
      "cell_type": "code",
      "source": [
        "print(\"Simple_RNN Score---> \",RNN_model.evaluate(x_test, y_test,verbose=0))"
      ],
      "metadata": {
        "colab": {
          "base_uri": "https://localhost:8080/"
        },
        "id": "DXyqJ2cnh4LW",
        "outputId": "25836358-99c2-4ead-8412-f0c02e6c5500"
      },
      "execution_count": 11,
      "outputs": [
        {
          "output_type": "stream",
          "name": "stdout",
          "text": [
            "Simple_RNN Score--->  [0.5979665517807007, 0.6798400282859802]\n"
          ]
        }
      ]
    },
    {
      "cell_type": "code",
      "source": [],
      "metadata": {
        "id": "C3pKY8avihph"
      },
      "execution_count": null,
      "outputs": []
    }
  ]
}